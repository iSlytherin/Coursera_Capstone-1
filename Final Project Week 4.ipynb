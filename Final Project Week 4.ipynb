{
 "cells": [
  {
   "cell_type": "markdown",
   "metadata": {},
   "source": [
    "# <h1><center>Finding location for a new shopping mall in Singapore</center></h1>"
   ]
  },
  {
   "cell_type": "markdown",
   "metadata": {},
   "source": [
    "## 1. Introduction"
   ]
  },
  {
   "cell_type": "markdown",
   "metadata": {},
   "source": [
    "### 1.1 Background"
   ]
  },
  {
   "cell_type": "markdown",
   "metadata": {},
   "source": [
    "This capstone project is made specifically for IBM Data Science Professional Certificate, where a hypothetical scenario is raised. I chose Singapore for this project. Singapore,famously known as the \"the red dot\" on the world map, is one of the most important financial and transport hubs in Asia. Due to its geographical advantages, Singapore welcomes tourists from all around the world. Each year, Singapore attracts a lot of foreign investment as a result of its location, skilled workforce, low tax rates, and advanced infrastructure. <br>\n",
    "\n",
    "Singapore has a decent amount of shoping malls, because Singporeans of all ages like to go to shopping malls for different purposes, some for shopping, some for dining out, some for watching movies... Not only the locals love going to shopping mall, but also the millions of tourists who visit Singapore each year. "
   ]
  },
  {
   "cell_type": "markdown",
   "metadata": {},
   "source": [
    "### 1.2 Business Problem"
   ]
  },
  {
   "cell_type": "markdown",
   "metadata": {},
   "source": [
    " Suppose a shopping mall chain is willing to open a new shopping mall outlet in Singapore to expand their business in South East Asia, however, the stakeholders are not familiar with Singapore.  They want to know which location would be the best to suit their needs.\n"
   ]
  },
  {
   "cell_type": "markdown",
   "metadata": {},
   "source": [
    "### 1.3 Target Audience\n"
   ]
  },
  {
   "cell_type": "markdown",
   "metadata": {},
   "source": [
    "1. The stakeholders who want to invest in the shopping mall. \n",
    "1. Tourists who visit Singapore. Singapore attracted approximately 19.1 million visitors in 2019 with receipts at S\\\\$27.1 billion, according to preliminary figures by the Singapore Tourism Board. The top three countries where the tourists are from are China, India and Indonesia.\n",
    "1. Local Singaporean residents. As of June 2019, Singapore's population stood at 5.70 million.\n",
    "    "
   ]
  },
  {
   "cell_type": "markdown",
   "metadata": {},
   "source": [
    "## 2. Data"
   ]
  },
  {
   "cell_type": "markdown",
   "metadata": {},
   "source": [
    "### 2.1 Data Requirments"
   ]
  },
  {
   "cell_type": "markdown",
   "metadata": {},
   "source": [
    "- List of the planning areas of Singapore\n",
    "- Coordination (Latitudes, Longitudes) of the planning areas in Singapore\n",
    "- Top venues of each planning areas\n"
   ]
  },
  {
   "cell_type": "markdown",
   "metadata": {},
   "source": [
    "### 2.2 Data Sources"
   ]
  },
  {
   "cell_type": "markdown",
   "metadata": {},
   "source": [
    "- Downloaded the 2019 Singapore planning area dataset from:https://data.gov.sg/dataset/master-plan-2019-planning-area-boundary-no-sea?resource_id=06155d17-a1f2-44e8-926c-768bdba6e621, which contains columns including planning area, region, and latitude, longitude values.  \n",
    "\n",
    "- Using foursquare API to retrieve venue data, we will focus especially on the category of shopping mall for the planning areas (neighborhoods). \n"
   ]
  },
  {
   "cell_type": "markdown",
   "metadata": {},
   "source": [
    "## 3. Methodology"
   ]
  },
  {
   "cell_type": "markdown",
   "metadata": {},
   "source": [
    "We will use Pandas to pre-process, cleanse the dataset, build a dataframe of the planning areas of Singapore, visualize the neighborhoods on Folium, work with Foursquare API to obtain the venue data in each planning area (neighborhood), then explore and cluster the neighborhoods, we will be using KMeans clustering method to perform. Finally we will pick up the best cluster to recommend to the stakeholders for the best locations to open up a new shopping mall."
   ]
  }
 ],
 "metadata": {
  "kernelspec": {
   "display_name": "Python 3",
   "language": "python",
   "name": "python3"
  },
  "language_info": {
   "codemirror_mode": {
    "name": "ipython",
    "version": 3
   },
   "file_extension": ".py",
   "mimetype": "text/x-python",
   "name": "python",
   "nbconvert_exporter": "python",
   "pygments_lexer": "ipython3",
   "version": "3.8.2"
  }
 },
 "nbformat": 4,
 "nbformat_minor": 4
}
